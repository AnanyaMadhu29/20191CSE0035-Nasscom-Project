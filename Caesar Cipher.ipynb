Program for Caesar Cipher in Python
{
  "nbformat": 4,
  "nbformat_minor": 0,
  "metadata": {
    "colab": {
      "name": "Caesar Cipher.ipynb",
      "provenance": [],
      "collapsed_sections": []
    },
    "kernelspec": {
      "name": "python3",
      "display_name": "Python 3"
    },
    "language_info": {
      "name": "python"
    }
  },
  "cells": [
    {
      "cell_type": "code",
      "metadata": {
        "colab": {
          "base_uri": "https://localhost:8080/"
        },
        "id": "UQbu2hu1_9Qm",
        "outputId": "b6968539-d95f-4814-dd07-738fdea913f8"
      },
      "source": [
        "#Caesar Cipher \n",
        "def encrypt(string, shift):\n",
        " \n",
        "  cipher = ''\n",
        "  for char in string:\n",
        "    if char == ' ':\n",
        "      cipher = cipher + char\n",
        "    elif  char.isupper():\n",
        "      cipher = cipher + chr((ord(char) + shift - 65) % 26 + 65)\n",
        "    else:\n",
        "      cipher = cipher + chr((ord(char) + shift - 97) % 26 + 97)\n",
        "  \n",
        "  return cipher\n",
        " \n",
        "text = input(\"Enter your message: \")\n",
        "s = int(input(\"Enter the shift number: \"))\n",
        "print(\"Original Message: \", text)\n",
        "print(\"After Encryption: \", encrypt(text, s))"
      ],
      "execution_count": 1,
      "outputs": [
        {
          "output_type": "stream",
          "name": "stdout",
          "text": [
            "Enter your message: I am Ananya\n",
            "Enter the shift number: 3\n",
            "Original Message:  I am Ananya\n",
            "After Encryption:  L dp Dqdqbd\n"
          ]
        }
      ]
    }
  ]
}
